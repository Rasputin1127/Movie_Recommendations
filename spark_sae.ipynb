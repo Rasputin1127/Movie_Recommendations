{
 "cells": [
  {
   "cell_type": "code",
   "execution_count": 1,
   "metadata": {},
   "outputs": [],
   "source": [
    "import pyspark"
   ]
  },
  {
   "cell_type": "code",
   "execution_count": 2,
   "metadata": {},
   "outputs": [],
   "source": [
    "import pandas as pd\n",
    "import numpy as np\n",
    "import matplotlib.pyplot as plt\n",
    "plt.rcParams.update({'font.size':18})"
   ]
  },
  {
   "cell_type": "code",
   "execution_count": 3,
   "metadata": {},
   "outputs": [
    {
     "data": {
      "text/plain": [
       "(<pyspark.sql.session.SparkSession at 0x7f56ee154dc0>,\n",
       " <SparkContext master=local[*] appName=pyspark-shell>)"
      ]
     },
     "execution_count": 3,
     "metadata": {},
     "output_type": "execute_result"
    }
   ],
   "source": [
    "# Build our Spark Session and Context\n",
    "spark = pyspark.sql.SparkSession.builder.getOrCreate()\n",
    "sc = spark.sparkContext\n",
    "spark, sc"
   ]
  },
  {
   "cell_type": "code",
   "execution_count": 5,
   "metadata": {},
   "outputs": [],
   "source": [
    "df = pd.read_csv('data/ml-latest-small/ratings.csv')"
   ]
  },
  {
   "cell_type": "code",
   "execution_count": 6,
   "metadata": {},
   "outputs": [
    {
     "data": {
      "text/html": [
       "<div>\n",
       "<style scoped>\n",
       "    .dataframe tbody tr th:only-of-type {\n",
       "        vertical-align: middle;\n",
       "    }\n",
       "\n",
       "    .dataframe tbody tr th {\n",
       "        vertical-align: top;\n",
       "    }\n",
       "\n",
       "    .dataframe thead th {\n",
       "        text-align: right;\n",
       "    }\n",
       "</style>\n",
       "<table border=\"1\" class=\"dataframe\">\n",
       "  <thead>\n",
       "    <tr style=\"text-align: right;\">\n",
       "      <th></th>\n",
       "      <th>userId</th>\n",
       "      <th>movieId</th>\n",
       "      <th>rating</th>\n",
       "      <th>timestamp</th>\n",
       "    </tr>\n",
       "  </thead>\n",
       "  <tbody>\n",
       "    <tr>\n",
       "      <th>0</th>\n",
       "      <td>1</td>\n",
       "      <td>1</td>\n",
       "      <td>4.0</td>\n",
       "      <td>964982703</td>\n",
       "    </tr>\n",
       "    <tr>\n",
       "      <th>1</th>\n",
       "      <td>1</td>\n",
       "      <td>3</td>\n",
       "      <td>4.0</td>\n",
       "      <td>964981247</td>\n",
       "    </tr>\n",
       "    <tr>\n",
       "      <th>2</th>\n",
       "      <td>1</td>\n",
       "      <td>6</td>\n",
       "      <td>4.0</td>\n",
       "      <td>964982224</td>\n",
       "    </tr>\n",
       "    <tr>\n",
       "      <th>3</th>\n",
       "      <td>1</td>\n",
       "      <td>47</td>\n",
       "      <td>5.0</td>\n",
       "      <td>964983815</td>\n",
       "    </tr>\n",
       "    <tr>\n",
       "      <th>4</th>\n",
       "      <td>1</td>\n",
       "      <td>50</td>\n",
       "      <td>5.0</td>\n",
       "      <td>964982931</td>\n",
       "    </tr>\n",
       "  </tbody>\n",
       "</table>\n",
       "</div>"
      ],
      "text/plain": [
       "   userId  movieId  rating  timestamp\n",
       "0       1        1     4.0  964982703\n",
       "1       1        3     4.0  964981247\n",
       "2       1        6     4.0  964982224\n",
       "3       1       47     5.0  964983815\n",
       "4       1       50     5.0  964982931"
      ]
     },
     "execution_count": 6,
     "metadata": {},
     "output_type": "execute_result"
    }
   ],
   "source": [
    "df.head()"
   ]
  },
  {
   "cell_type": "code",
   "execution_count": 7,
   "metadata": {},
   "outputs": [],
   "source": [
    "spark_df = spark.createDataFrame(df)"
   ]
  },
  {
   "cell_type": "code",
   "execution_count": 8,
   "metadata": {},
   "outputs": [
    {
     "name": "stdout",
     "output_type": "stream",
     "text": [
      "+------+-------+------+---------+\n",
      "|userId|movieId|rating|timestamp|\n",
      "+------+-------+------+---------+\n",
      "|     1|      1|   4.0|964982703|\n",
      "|     1|      3|   4.0|964981247|\n",
      "|     1|      6|   4.0|964982224|\n",
      "|     1|     47|   5.0|964983815|\n",
      "|     1|     50|   5.0|964982931|\n",
      "|     1|     70|   3.0|964982400|\n",
      "|     1|    101|   5.0|964980868|\n",
      "|     1|    110|   4.0|964982176|\n",
      "|     1|    151|   5.0|964984041|\n",
      "|     1|    157|   5.0|964984100|\n",
      "|     1|    163|   5.0|964983650|\n",
      "|     1|    216|   5.0|964981208|\n",
      "|     1|    223|   3.0|964980985|\n",
      "|     1|    231|   5.0|964981179|\n",
      "|     1|    235|   4.0|964980908|\n",
      "|     1|    260|   5.0|964981680|\n",
      "|     1|    296|   3.0|964982967|\n",
      "|     1|    316|   3.0|964982310|\n",
      "|     1|    333|   5.0|964981179|\n",
      "|     1|    349|   4.0|964982563|\n",
      "+------+-------+------+---------+\n",
      "only showing top 20 rows\n",
      "\n"
     ]
    }
   ],
   "source": [
    "spark_df.show()"
   ]
  },
  {
   "cell_type": "code",
   "execution_count": 9,
   "metadata": {},
   "outputs": [
    {
     "name": "stdout",
     "output_type": "stream",
     "text": [
      "+------+-------+------+\n",
      "|userId|movieId|rating|\n",
      "+------+-------+------+\n",
      "|     1|      1|   4.0|\n",
      "|     1|      3|   4.0|\n",
      "|     1|      6|   4.0|\n",
      "|     1|     47|   5.0|\n",
      "|     1|     50|   5.0|\n",
      "|     1|     70|   3.0|\n",
      "|     1|    101|   5.0|\n",
      "|     1|    110|   4.0|\n",
      "|     1|    151|   5.0|\n",
      "|     1|    157|   5.0|\n",
      "|     1|    163|   5.0|\n",
      "|     1|    216|   5.0|\n",
      "|     1|    223|   3.0|\n",
      "|     1|    231|   5.0|\n",
      "|     1|    235|   4.0|\n",
      "|     1|    260|   5.0|\n",
      "|     1|    296|   3.0|\n",
      "|     1|    316|   3.0|\n",
      "|     1|    333|   5.0|\n",
      "|     1|    349|   4.0|\n",
      "+------+-------+------+\n",
      "only showing top 20 rows\n",
      "\n"
     ]
    }
   ],
   "source": [
    "spark_df = spark_df.drop('timestamp')\n",
    "spark_df.show()"
   ]
  },
  {
   "cell_type": "code",
   "execution_count": 10,
   "metadata": {},
   "outputs": [],
   "source": [
    "train, test = spark_df.randomSplit([0.8, 0.2], seed=13)"
   ]
  },
  {
   "cell_type": "code",
   "execution_count": 59,
   "metadata": {},
   "outputs": [
    {
     "name": "stdout",
     "output_type": "stream",
     "text": [
      "Max Ratings: 2176\n",
      "Min Ratings: 11\n"
     ]
    },
    {
     "data": {
      "text/plain": [
       "<AxesSubplot:>"
      ]
     },
     "execution_count": 59,
     "metadata": {},
     "output_type": "execute_result"
    },
    {
     "data": {
      "image/png": "[encoded data removed]",
      "text/plain": [
       "<Figure size 432x288 with 1 Axes>"
      ]
     },
     "metadata": {
      "needs_background": "light"
     },
     "output_type": "display_data"
    }
   ],
   "source": [
    "user_count = train.groupBy('userId').count().toPandas()\n",
    "\n",
    "print('Max Ratings: {}'.format(user_count['count'].max()))\n",
    "print('Min Ratings: {}'.format(user_count['count'].min()))\n",
    "user_count['count'].hist(bins = 100)"
   ]
  },
  {
   "cell_type": "code",
   "execution_count": 60,
   "metadata": {},
   "outputs": [
    {
     "name": "stdout",
     "output_type": "stream",
     "text": [
      "Max Ratings: 266\n",
      "Min Ratings: 1\n"
     ]
    },
    {
     "data": {
      "text/plain": [
       "<AxesSubplot:>"
      ]
     },
     "execution_count": 60,
     "metadata": {},
     "output_type": "execute_result"
    },
    {
     "data": {
      "image/png": "[encoded data removed]",
      "text/plain": [
       "<Figure size 432x288 with 1 Axes>"
      ]
     },
     "metadata": {
      "needs_background": "light"
     },
     "output_type": "display_data"
    }
   ],
   "source": [
    "movie_count = train.groupBy('movieId').count().toPandas()\n",
    "\n",
    "print('Max Ratings: {}'.format(movie_count['count'].max()))\n",
    "print('Min Ratings: {}'.format(movie_count['count'].min()))\n",
    "movie_count['count'].hist(bins = 100)"
   ]
  },
  {
   "cell_type": "code",
   "execution_count": 61,
   "metadata": {},
   "outputs": [
    {
     "name": "stdout",
     "output_type": "stream",
     "text": [
      "Max Ratings: 522\n",
      "Min Ratings: 1\n"
     ]
    },
    {
     "data": {
      "text/plain": [
       "<AxesSubplot:>"
      ]
     },
     "execution_count": 61,
     "metadata": {},
     "output_type": "execute_result"
    },
    {
     "data": {
      "image/png": "[encoded data removed]",
      "text/plain": [
       "<Figure size 432x288 with 1 Axes>"
      ]
     },
     "metadata": {
      "needs_background": "light"
     },
     "output_type": "display_data"
    }
   ],
   "source": [
    "user_count = test.groupBy('userId').count().toPandas()\n",
    "\n",
    "print('Max Ratings: {}'.format(user_count['count'].max()))\n",
    "print('Min Ratings: {}'.format(user_count['count'].min()))\n",
    "user_count['count'].hist(bins = 100)"
   ]
  },
  {
   "cell_type": "code",
   "execution_count": 62,
   "metadata": {},
   "outputs": [
    {
     "name": "stdout",
     "output_type": "stream",
     "text": [
      "Max Ratings: 66\n",
      "Min Ratings: 1\n"
     ]
    },
    {
     "data": {
      "text/plain": [
       "<AxesSubplot:>"
      ]
     },
     "execution_count": 62,
     "metadata": {},
     "output_type": "execute_result"
    },
    {
     "data": {
      "image/png": "[encoded data removed]",
      "text/plain": [
       "<Figure size 432x288 with 1 Axes>"
      ]
     },
     "metadata": {
      "needs_background": "light"
     },
     "output_type": "display_data"
    }
   ],
   "source": [
    "movie_count = test.groupBy('movieId').count().toPandas()\n",
    "\n",
    "print('Max Ratings: {}'.format(movie_count['count'].max()))\n",
    "print('Min Ratings: {}'.format(movie_count['count'].min()))\n",
    "movie_count['count'].hist(bins = 100)"
   ]
  },
  {
   "cell_type": "code",
   "execution_count": 12,
   "metadata": {},
   "outputs": [
    {
     "data": {
      "text/plain": [
       "0.014777169663799843"
      ]
     },
     "execution_count": 12,
     "metadata": {},
     "output_type": "execute_result"
    }
   ],
   "source": [
    "num_users = train.select('userId').distinct().count()\n",
    "num_movies = train.select('movieId').distinct().count()\n",
    "num_ratings = train.count()\n",
    "\n",
    "density = num_ratings/(num_users*num_movies)\n",
    "density"
   ]
  },
  {
   "cell_type": "markdown",
   "metadata": {},
   "source": [
    "# Matrix Factorization\n",
    "## Explicit Model"
   ]
  },
  {
   "cell_type": "code",
   "execution_count": 13,
   "metadata": {},
   "outputs": [],
   "source": [
    "from pyspark.ml.recommendation import ALS\n",
    "als_model = ALS(\n",
    "    itemCol='movieId',\n",
    "    userCol='userId',\n",
    "    ratingCol='rating',\n",
    "    nonnegative=True,\n",
    "    regParam=0.1,\n",
    "    rank=10\n",
    ")\n"
   ]
  },
  {
   "cell_type": "code",
   "execution_count": 14,
   "metadata": {},
   "outputs": [],
   "source": [
    "recommender = als_model.fit(train)"
   ]
  },
  {
   "cell_type": "code",
   "execution_count": 22,
   "metadata": {},
   "outputs": [
    {
     "name": "stdout",
     "output_type": "stream",
     "text": [
      "+------+-------+\n",
      "|userId|movieId|\n",
      "+------+-------+\n",
      "|     1|    100|\n",
      "+------+-------+\n",
      "\n"
     ]
    }
   ],
   "source": [
    "one_row_pandas_df = pd.DataFrame({'userId': [1], 'movieId': [100]})\n",
    "one_row_spark_df = spark.createDataFrame(one_row_pandas_df)\n",
    "one_row_spark_df.show()"
   ]
  },
  {
   "cell_type": "code",
   "execution_count": 23,
   "metadata": {},
   "outputs": [
    {
     "name": "stdout",
     "output_type": "stream",
     "text": [
      "+---+--------------------+\n",
      "| id|            features|\n",
      "+---+--------------------+\n",
      "| 10|[1.0225443, 0.235...|\n",
      "| 20|[0.4148577, 1.026...|\n",
      "| 30|[0.6551465, 0.506...|\n",
      "| 40|[0.4666952, 0.810...|\n",
      "| 50|[0.0, 0.63655716,...|\n",
      "| 60|[0.62279904, 0.33...|\n",
      "| 70|[0.5038096, 0.462...|\n",
      "| 80|[0.47049022, 0.39...|\n",
      "| 90|[0.28540656, 1.09...|\n",
      "|100|[0.53640085, 0.62...|\n",
      "|110|[0.61515206, 0.91...|\n",
      "|120|[0.68671453, 0.18...|\n",
      "|130|[0.014127094, 0.0...|\n",
      "|140|[0.6637617, 0.064...|\n",
      "|150|[0.08861896, 0.20...|\n",
      "|160|[0.38195333, 0.76...|\n",
      "|170|[0.7592351, 0.415...|\n",
      "|180|[0.5442637, 0.385...|\n",
      "|190|[0.63527346, 0.49...|\n",
      "|200|[0.1088953, 0.570...|\n",
      "+---+--------------------+\n",
      "only showing top 20 rows\n",
      "\n"
     ]
    }
   ],
   "source": [
    "# dimentions of the latent features are the 'rank' of the decomposition\n",
    "recommender.userFactors.show()"
   ]
  },
  {
   "cell_type": "code",
   "execution_count": 24,
   "metadata": {},
   "outputs": [
    {
     "name": "stdout",
     "output_type": "stream",
     "text": [
      "+---+--------------------+\n",
      "| id|            features|\n",
      "+---+--------------------+\n",
      "| 10|[1.0225443, 0.235...|\n",
      "| 20|[0.4148577, 1.026...|\n",
      "| 30|[0.6551465, 0.506...|\n",
      "| 40|[0.4666952, 0.810...|\n",
      "| 50|[0.0, 0.63655716,...|\n",
      "| 60|[0.62279904, 0.33...|\n",
      "| 70|[0.5038096, 0.462...|\n",
      "| 80|[0.47049022, 0.39...|\n",
      "| 90|[0.28540656, 1.09...|\n",
      "|100|[0.53640085, 0.62...|\n",
      "|110|[0.61515206, 0.91...|\n",
      "|120|[0.68671453, 0.18...|\n",
      "|130|[0.014127094, 0.0...|\n",
      "|140|[0.6637617, 0.064...|\n",
      "|150|[0.08861896, 0.20...|\n",
      "|160|[0.38195333, 0.76...|\n",
      "|170|[0.7592351, 0.415...|\n",
      "|180|[0.5442637, 0.385...|\n",
      "|190|[0.63527346, 0.49...|\n",
      "|200|[0.1088953, 0.570...|\n",
      "+---+--------------------+\n",
      "only showing top 20 rows\n",
      "\n"
     ]
    }
   ],
   "source": [
    "recommender.userFactors.show()"
   ]
  },
  {
   "cell_type": "code",
   "execution_count": 25,
   "metadata": {},
   "outputs": [
    {
     "data": {
      "text/plain": [
       "[0.7273737192153931,\n",
       " 0.5415771007537842,\n",
       " 0.875194787979126,\n",
       " 0.719795823097229,\n",
       " 0.44567784667015076,\n",
       " 0.9922636151313782,\n",
       " 0.7763886451721191,\n",
       " 0.7355836033821106,\n",
       " 0.6659046411514282,\n",
       " 0.7427175045013428]"
      ]
     },
     "execution_count": 25,
     "metadata": {},
     "output_type": "execute_result"
    }
   ],
   "source": [
    "user_factor_df = recommender.userFactors.filter('id = 1')\n",
    "user_factors = user_factor_df.collect()[0]['features']\n",
    "user_factors"
   ]
  },
  {
   "cell_type": "code",
   "execution_count": 26,
   "metadata": {},
   "outputs": [
    {
     "data": {
      "text/plain": [
       "[0.476454496383667,\n",
       " 0.49925902485847473,\n",
       " 0.4568241536617279,\n",
       " 0.14915581047534943,\n",
       " 0.6184489727020264,\n",
       " 0.652549147605896,\n",
       " 0.1625424027442932,\n",
       " 0.1527702659368515,\n",
       " 0.7566236257553101,\n",
       " 0.5023273229598999]"
      ]
     },
     "execution_count": 26,
     "metadata": {},
     "output_type": "execute_result"
    }
   ],
   "source": [
    "movie_factor_df = recommender.itemFactors.filter('id = 100')\n",
    "movie_factors = movie_factor_df.collect()[0]['features']\n",
    "movie_factors"
   ]
  },
  {
   "cell_type": "code",
   "execution_count": 27,
   "metadata": {},
   "outputs": [
    {
     "data": {
      "text/plain": [
       "3.1627472229456233"
      ]
     },
     "execution_count": 27,
     "metadata": {},
     "output_type": "execute_result"
    }
   ],
   "source": [
    "# both are 1,10 arrays, lets dot them\n",
    "rating = np.dot(user_factors, movie_factors)\n",
    "rating"
   ]
  },
  {
   "cell_type": "code",
   "execution_count": 28,
   "metadata": {},
   "outputs": [
    {
     "name": "stdout",
     "output_type": "stream",
     "text": [
      "+------+-------+----------+\n",
      "|userId|movieId|prediction|\n",
      "+------+-------+----------+\n",
      "|     1|    100| 3.1627474|\n",
      "+------+-------+----------+\n",
      "\n"
     ]
    }
   ],
   "source": [
    "onerow_prediction = recommender.transform(one_row_spark_df)\n",
    "onerow_prediction.show()"
   ]
  },
  {
   "cell_type": "code",
   "execution_count": 29,
   "metadata": {},
   "outputs": [
    {
     "name": "stdout",
     "output_type": "stream",
     "text": [
      "+------+-------+------+----------+\n",
      "|userId|movieId|rating|prediction|\n",
      "+------+-------+------+----------+\n",
      "|   191|    148|   5.0|  4.908964|\n",
      "|   133|    471|   4.0|  3.185202|\n",
      "|   597|    471|   2.0| 3.3119514|\n",
      "|   385|    471|   4.0| 3.3060863|\n",
      "|   436|    471|   3.0|  3.409234|\n",
      "|   602|    471|   4.0| 3.1587372|\n",
      "|    91|    471|   1.0| 2.5467865|\n",
      "|   409|    471|   3.0|  3.946898|\n",
      "|   372|    471|   3.0| 2.9764652|\n",
      "|   599|    471|   2.5|  2.701026|\n",
      "|   603|    471|   4.0| 3.2168465|\n",
      "|   182|    471|   4.5| 3.6987925|\n",
      "|   218|    471|   4.0| 3.4120173|\n",
      "|   474|    471|   3.0| 3.4757173|\n",
      "|   500|    471|   1.0| 2.1040268|\n",
      "|    57|    471|   3.0| 3.5223677|\n",
      "|   462|    471|   2.5| 2.8084877|\n",
      "|   387|    471|   3.0|    2.7644|\n",
      "|   217|    471|   2.0| 2.5580466|\n",
      "|   555|    471|   3.0| 3.3976388|\n",
      "+------+-------+------+----------+\n",
      "only showing top 20 rows\n",
      "\n"
     ]
    }
   ],
   "source": [
    "train_predictions = recommender.transform(train)\n",
    "train_predictions.show()"
   ]
  },
  {
   "cell_type": "code",
   "execution_count": 30,
   "metadata": {},
   "outputs": [
    {
     "name": "stdout",
     "output_type": "stream",
     "text": [
      "+-------+------------------+-----------------+------------------+------------------+\n",
      "|summary|            userId|          movieId|            rating|        prediction|\n",
      "+-------+------------------+-----------------+------------------+------------------+\n",
      "|  count|             80703|            80703|             80703|             80703|\n",
      "|   mean| 325.5953186374732|19305.45191628564|3.5007000978897933|3.4093889272295113|\n",
      "| stddev|182.81617676173943|35417.53366960361|1.0435945664614408|0.7510454566634271|\n",
      "|    min|                 1|                1|               0.5|        0.32691988|\n",
      "|    max|               610|           193609|               5.0|         5.3373895|\n",
      "+-------+------------------+-----------------+------------------+------------------+\n",
      "\n"
     ]
    }
   ],
   "source": [
    "train_predictions.describe().show()"
   ]
  },
  {
   "cell_type": "code",
   "execution_count": 31,
   "metadata": {},
   "outputs": [
    {
     "name": "stdout",
     "output_type": "stream",
     "text": [
      "+------+-------+------+----------+\n",
      "|userId|movieId|rating|prediction|\n",
      "+------+-------+------+----------+\n",
      "|   610|    471|   4.0| 3.3694572|\n",
      "|   520|    471|   5.0|  4.027454|\n",
      "|   136|    471|   4.0| 2.4651508|\n",
      "|   171|    471|   3.0| 4.4019723|\n",
      "|   448|    471|   4.0|  3.530367|\n",
      "|   373|    471|   5.0| 3.9794278|\n",
      "|   191|    496|   5.0|       NaN|\n",
      "|   609|    833|   3.0| 1.7047482|\n",
      "|   307|    833|   1.0| 1.3303909|\n",
      "|   111|   1088|   3.0|  3.619725|\n",
      "|    47|   1088|   4.0| 3.0564933|\n",
      "|   387|   1088|   1.5|  2.766224|\n",
      "|   381|   1088|   3.5| 3.6588032|\n",
      "|   583|   1088|   3.5| 3.8819995|\n",
      "|   594|   1088|   4.5| 3.4906294|\n",
      "|    10|   1088|   3.0|  3.801182|\n",
      "|    68|   1088|   3.5| 3.4675171|\n",
      "|    42|   1088|   3.0| 3.3228178|\n",
      "|   325|   1238|   4.0| 4.2262864|\n",
      "|   216|   1238|   5.0| 3.6265635|\n",
      "+------+-------+------+----------+\n",
      "only showing top 20 rows\n",
      "\n"
     ]
    }
   ],
   "source": [
    "test_predictions = recommender.transform(test)\n",
    "test_predictions.show()"
   ]
  },
  {
   "cell_type": "code",
   "execution_count": 32,
   "metadata": {},
   "outputs": [
    {
     "name": "stdout",
     "output_type": "stream",
     "text": [
      "+-------+-----------------+------------------+------------------+----------+\n",
      "|summary|           userId|           movieId|            rating|prediction|\n",
      "+-------+-----------------+------------------+------------------+----------+\n",
      "|  count|            20133|             20133|             20133|     20133|\n",
      "|   mean|328.2610639248994|19955.773754532358|3.5049918045000745|       NaN|\n",
      "| stddev|181.8127984879502|35978.358432794026|1.0382666477415254|       NaN|\n",
      "|    min|                1|                 1|               0.5|0.15266484|\n",
      "|    max|              610|            193581|               5.0|       NaN|\n",
      "+-------+-----------------+------------------+------------------+----------+\n",
      "\n"
     ]
    }
   ],
   "source": [
    "test_predictions.describe().show()"
   ]
  },
  {
   "cell_type": "code",
   "execution_count": 33,
   "metadata": {},
   "outputs": [
    {
     "data": {
      "text/plain": [
       "[Row(movieId=33649, rating=5.979905605316162),\n",
       " Row(movieId=78836, rating=5.798222541809082),\n",
       " Row(movieId=86237, rating=5.767210483551025),\n",
       " Row(movieId=179135, rating=5.767210483551025),\n",
       " Row(movieId=74226, rating=5.767210483551025),\n",
       " Row(movieId=7071, rating=5.767210483551025),\n",
       " Row(movieId=26073, rating=5.767210483551025),\n",
       " Row(movieId=171495, rating=5.767210483551025),\n",
       " Row(movieId=84273, rating=5.767210483551025),\n",
       " Row(movieId=117531, rating=5.767210483551025)]"
      ]
     },
     "execution_count": 33,
     "metadata": {},
     "output_type": "execute_result"
    }
   ],
   "source": [
    "# Get the top movies for a user 1\n",
    "\n",
    "recommender.recommendForUserSubset(one_row_spark_df, 10).collect()[0]['recommendations']"
   ]
  },
  {
   "cell_type": "markdown",
   "metadata": {},
   "source": [
    "## Implicit Recommendations\n",
    "\n",
    "The basic for the use is that a 1 represents having seen it and 0 not. It can be used in a more complex manor however by including the amount of times the user interacted with the item. Think of a music streaming service if you have listened to a song 10 times it can be inferred you like the song more then one listened to once. Percentages of movie watched can be used as well."
   ]
  },
  {
   "cell_type": "code",
   "execution_count": 34,
   "metadata": {},
   "outputs": [
    {
     "name": "stdout",
     "output_type": "stream",
     "text": [
      "+------+-------+------+----------+\n",
      "|userId|movieId|rating|imp_rating|\n",
      "+------+-------+------+----------+\n",
      "|     1|      1|   4.0|         1|\n",
      "|     1|      6|   4.0|         1|\n",
      "|     1|     47|   5.0|         1|\n",
      "|     1|     50|   5.0|         1|\n",
      "|     1|    101|   5.0|         1|\n",
      "|     1|    110|   4.0|         1|\n",
      "|     1|    151|   5.0|         1|\n",
      "|     1|    157|   5.0|         1|\n",
      "|     1|    163|   5.0|         1|\n",
      "|     1|    216|   5.0|         1|\n",
      "|     1|    231|   5.0|         1|\n",
      "|     1|    235|   4.0|         1|\n",
      "|     1|    260|   5.0|         1|\n",
      "|     1|    296|   3.0|         1|\n",
      "|     1|    316|   3.0|         1|\n",
      "|     1|    333|   5.0|         1|\n",
      "|     1|    349|   4.0|         1|\n",
      "|     1|    356|   4.0|         1|\n",
      "|     1|    362|   5.0|         1|\n",
      "|     1|    367|   4.0|         1|\n",
      "+------+-------+------+----------+\n",
      "only showing top 20 rows\n",
      "\n"
     ]
    }
   ],
   "source": [
    "from pyspark.sql.functions import lit\n",
    "train_w_imprating = train.withColumn('imp_rating', lit(1))\n",
    "train_w_imprating.show()"
   ]
  },
  {
   "cell_type": "code",
   "execution_count": 35,
   "metadata": {},
   "outputs": [],
   "source": [
    "als_model_imp = ALS(userCol='userId',\n",
    "                itemCol='movieId',\n",
    "                ratingCol='imp_rating',\n",
    "                implicitPrefs=True,\n",
    "                nonnegative=True,\n",
    "                regParam=0.1,\n",
    "                rank=10\n",
    "               )\n",
    "\n",
    "recommender_imp = als_model_imp.fit(train_w_imprating)"
   ]
  },
  {
   "cell_type": "code",
   "execution_count": 36,
   "metadata": {},
   "outputs": [
    {
     "data": {
      "text/plain": [
       "[Row(movieId=2916, rating=0.6959773898124695),\n",
       " Row(movieId=1210, rating=0.6778948307037354),\n",
       " Row(movieId=1240, rating=0.6711935997009277),\n",
       " Row(movieId=1200, rating=0.655117392539978),\n",
       " Row(movieId=1214, rating=0.6538501977920532),\n",
       " Row(movieId=1036, rating=0.6503915786743164),\n",
       " Row(movieId=2985, rating=0.6478635668754578),\n",
       " Row(movieId=2628, rating=0.643596887588501),\n",
       " Row(movieId=1391, rating=0.6420583128929138),\n",
       " Row(movieId=260, rating=0.6395643353462219)]"
      ]
     },
     "execution_count": 36,
     "metadata": {},
     "output_type": "execute_result"
    }
   ],
   "source": [
    "# Get the top movies for a user 1\n",
    "\n",
    "recommender_imp.recommendForUserSubset(one_row_spark_df, 10).collect()[0]['recommendations']"
   ]
  },
  {
   "cell_type": "code",
   "execution_count": 38,
   "metadata": {},
   "outputs": [],
   "source": [
    "als_model_imp = ALS(userCol='userId',\n",
    "                itemCol='movieId',\n",
    "                ratingCol='rating',\n",
    "                implicitPrefs=True,\n",
    "                nonnegative=True,\n",
    "                regParam=0.1,\n",
    "                rank=10\n",
    "               )\n",
    "\n",
    "recommender_imp = als_model_imp.fit(train_w_imprating)"
   ]
  },
  {
   "cell_type": "code",
   "execution_count": 39,
   "metadata": {},
   "outputs": [
    {
     "data": {
      "text/plain": [
       "[Row(movieId=1214, rating=1.0052897930145264),\n",
       " Row(movieId=1200, rating=0.9871896505355835),\n",
       " Row(movieId=2916, rating=0.9756388664245605),\n",
       " Row(movieId=1210, rating=0.9555643200874329),\n",
       " Row(movieId=1196, rating=0.9518911838531494),\n",
       " Row(movieId=1387, rating=0.9454148411750793),\n",
       " Row(movieId=1036, rating=0.940233588218689),\n",
       " Row(movieId=589, rating=0.9360808730125427),\n",
       " Row(movieId=1240, rating=0.934161901473999),\n",
       " Row(movieId=1270, rating=0.9260388016700745)]"
      ]
     },
     "execution_count": 39,
     "metadata": {},
     "output_type": "execute_result"
    }
   ],
   "source": [
    "# Get the top movies for a user 1\n",
    "\n",
    "recommender_imp.recommendForUserSubset(one_row_spark_df, 10).collect()[0]['recommendations']"
   ]
  },
  {
   "cell_type": "markdown",
   "metadata": {},
   "source": [
    "## Evaluation"
   ]
  },
  {
   "cell_type": "code",
   "execution_count": 40,
   "metadata": {},
   "outputs": [],
   "source": [
    "# Dump the predictions to Pandas DataFrames to make our final calculations easier\n",
    "test_predictions_df = test_predictions.toPandas()\n",
    "train_df = train.toPandas()"
   ]
  },
  {
   "cell_type": "code",
   "execution_count": 41,
   "metadata": {},
   "outputs": [
    {
     "data": {
      "text/plain": [
       "3.5007000978897933"
      ]
     },
     "execution_count": 41,
     "metadata": {},
     "output_type": "execute_result"
    }
   ],
   "source": [
    "global_mean = train_df['rating'].mean()\n",
    "global_mean"
   ]
  },
  {
   "cell_type": "code",
   "execution_count": 42,
   "metadata": {},
   "outputs": [
    {
     "data": {
      "text/html": [
       "<div>\n",
       "<style scoped>\n",
       "    .dataframe tbody tr th:only-of-type {\n",
       "        vertical-align: middle;\n",
       "    }\n",
       "\n",
       "    .dataframe tbody tr th {\n",
       "        vertical-align: top;\n",
       "    }\n",
       "\n",
       "    .dataframe thead th {\n",
       "        text-align: right;\n",
       "    }\n",
       "</style>\n",
       "<table border=\"1\" class=\"dataframe\">\n",
       "  <thead>\n",
       "    <tr style=\"text-align: right;\">\n",
       "      <th></th>\n",
       "      <th>userId</th>\n",
       "      <th>movieId</th>\n",
       "      <th>rating</th>\n",
       "      <th>prediction</th>\n",
       "    </tr>\n",
       "  </thead>\n",
       "  <tbody>\n",
       "    <tr>\n",
       "      <th>count</th>\n",
       "      <td>20133.000000</td>\n",
       "      <td>20133.000000</td>\n",
       "      <td>20133.000000</td>\n",
       "      <td>20133.000000</td>\n",
       "    </tr>\n",
       "    <tr>\n",
       "      <th>mean</th>\n",
       "      <td>328.261064</td>\n",
       "      <td>19955.773755</td>\n",
       "      <td>3.504992</td>\n",
       "      <td>3.367040</td>\n",
       "    </tr>\n",
       "    <tr>\n",
       "      <th>std</th>\n",
       "      <td>181.812798</td>\n",
       "      <td>35978.358433</td>\n",
       "      <td>1.038267</td>\n",
       "      <td>0.707547</td>\n",
       "    </tr>\n",
       "    <tr>\n",
       "      <th>min</th>\n",
       "      <td>1.000000</td>\n",
       "      <td>1.000000</td>\n",
       "      <td>0.500000</td>\n",
       "      <td>0.152665</td>\n",
       "    </tr>\n",
       "    <tr>\n",
       "      <th>25%</th>\n",
       "      <td>177.000000</td>\n",
       "      <td>1200.000000</td>\n",
       "      <td>3.000000</td>\n",
       "      <td>2.962480</td>\n",
       "    </tr>\n",
       "    <tr>\n",
       "      <th>50%</th>\n",
       "      <td>327.000000</td>\n",
       "      <td>3039.000000</td>\n",
       "      <td>3.500000</td>\n",
       "      <td>3.477466</td>\n",
       "    </tr>\n",
       "    <tr>\n",
       "      <th>75%</th>\n",
       "      <td>477.000000</td>\n",
       "      <td>8533.000000</td>\n",
       "      <td>4.000000</td>\n",
       "      <td>3.852948</td>\n",
       "    </tr>\n",
       "    <tr>\n",
       "      <th>max</th>\n",
       "      <td>610.000000</td>\n",
       "      <td>193581.000000</td>\n",
       "      <td>5.000000</td>\n",
       "      <td>5.716045</td>\n",
       "    </tr>\n",
       "  </tbody>\n",
       "</table>\n",
       "</div>"
      ],
      "text/plain": [
       "             userId        movieId        rating    prediction\n",
       "count  20133.000000   20133.000000  20133.000000  20133.000000\n",
       "mean     328.261064   19955.773755      3.504992      3.367040\n",
       "std      181.812798   35978.358433      1.038267      0.707547\n",
       "min        1.000000       1.000000      0.500000      0.152665\n",
       "25%      177.000000    1200.000000      3.000000      2.962480\n",
       "50%      327.000000    3039.000000      3.500000      3.477466\n",
       "75%      477.000000    8533.000000      4.000000      3.852948\n",
       "max      610.000000  193581.000000      5.000000      5.716045"
      ]
     },
     "execution_count": 42,
     "metadata": {},
     "output_type": "execute_result"
    }
   ],
   "source": [
    "# try with global mean fill\n",
    "test_predictions_df = test_predictions_df.fillna(global_mean)\n",
    "test_predictions_df.describe()"
   ]
  },
  {
   "cell_type": "code",
   "execution_count": 43,
   "metadata": {},
   "outputs": [],
   "source": [
    "def rmse(y, y_hat):\n",
    "    return np.sqrt(np.mean((y-y_hat)**2))"
   ]
  },
  {
   "cell_type": "code",
   "execution_count": 44,
   "metadata": {},
   "outputs": [
    {
     "data": {
      "text/plain": [
       "0.8867660772092508"
      ]
     },
     "execution_count": 44,
     "metadata": {},
     "output_type": "execute_result"
    }
   ],
   "source": [
    "rmse(test_predictions_df['rating'], test_predictions_df['prediction'])"
   ]
  },
  {
   "cell_type": "code",
   "execution_count": 45,
   "metadata": {},
   "outputs": [
    {
     "data": {
      "text/html": [
       "<div>\n",
       "<style scoped>\n",
       "    .dataframe tbody tr th:only-of-type {\n",
       "        vertical-align: middle;\n",
       "    }\n",
       "\n",
       "    .dataframe tbody tr th {\n",
       "        vertical-align: top;\n",
       "    }\n",
       "\n",
       "    .dataframe thead th {\n",
       "        text-align: right;\n",
       "    }\n",
       "</style>\n",
       "<table border=\"1\" class=\"dataframe\">\n",
       "  <thead>\n",
       "    <tr style=\"text-align: right;\">\n",
       "      <th></th>\n",
       "      <th>userId</th>\n",
       "      <th>movieId</th>\n",
       "      <th>rating</th>\n",
       "      <th>prediction</th>\n",
       "      <th>squared_error</th>\n",
       "    </tr>\n",
       "  </thead>\n",
       "  <tbody>\n",
       "    <tr>\n",
       "      <th>0</th>\n",
       "      <td>610</td>\n",
       "      <td>471</td>\n",
       "      <td>4.0</td>\n",
       "      <td>3.369457</td>\n",
       "      <td>0.397584</td>\n",
       "    </tr>\n",
       "    <tr>\n",
       "      <th>1</th>\n",
       "      <td>520</td>\n",
       "      <td>471</td>\n",
       "      <td>5.0</td>\n",
       "      <td>4.027454</td>\n",
       "      <td>0.945846</td>\n",
       "    </tr>\n",
       "    <tr>\n",
       "      <th>2</th>\n",
       "      <td>136</td>\n",
       "      <td>471</td>\n",
       "      <td>4.0</td>\n",
       "      <td>2.465151</td>\n",
       "      <td>2.355762</td>\n",
       "    </tr>\n",
       "    <tr>\n",
       "      <th>3</th>\n",
       "      <td>171</td>\n",
       "      <td>471</td>\n",
       "      <td>3.0</td>\n",
       "      <td>4.401972</td>\n",
       "      <td>1.965526</td>\n",
       "    </tr>\n",
       "    <tr>\n",
       "      <th>4</th>\n",
       "      <td>448</td>\n",
       "      <td>471</td>\n",
       "      <td>4.0</td>\n",
       "      <td>3.530367</td>\n",
       "      <td>0.220555</td>\n",
       "    </tr>\n",
       "  </tbody>\n",
       "</table>\n",
       "</div>"
      ],
      "text/plain": [
       "   userId  movieId  rating  prediction  squared_error\n",
       "0     610      471     4.0    3.369457       0.397584\n",
       "1     520      471     5.0    4.027454       0.945846\n",
       "2     136      471     4.0    2.465151       2.355762\n",
       "3     171      471     3.0    4.401972       1.965526\n",
       "4     448      471     4.0    3.530367       0.220555"
      ]
     },
     "execution_count": 45,
     "metadata": {},
     "output_type": "execute_result"
    }
   ],
   "source": [
    "test_predictions_df['squared_error'] = (test_predictions_df['rating'] - test_predictions_df['prediction'])**2\n",
    "test_predictions_df.head()"
   ]
  },
  {
   "cell_type": "code",
   "execution_count": 46,
   "metadata": {},
   "outputs": [
    {
     "data": {
      "image/png": "[encoded data removed]",
      "text/plain": [
       "<Figure size 720x432 with 1 Axes>"
      ]
     },
     "metadata": {
      "needs_background": "light"
     },
     "output_type": "display_data"
    }
   ],
   "source": [
    "# Create array of predictions for violinplot\n",
    "\n",
    "data = [test_predictions_df['prediction'][test_predictions_df['rating'] == rating].values for rating in range(1, 6)]\n",
    "fig, ax = plt.subplots(figsize=(10,6))\n",
    "\n",
    "ax.violinplot(data, range(1,6), showmeans=True)\n",
    "ax.scatter(np.arange(1,6,1), np.arange(1,6,1), label='Perfect Prediction', color='red',marker='o')\n",
    "ax.set_xlabel('True Ratings')\n",
    "ax.set_ylabel('Predicted Ratings')\n",
    "ax.set_title('True vs. ALS Recommender Predicted Ratings')\n",
    "ax.legend(loc='lower right')\n",
    "plt.show()"
   ]
  },
  {
   "cell_type": "code",
   "execution_count": 48,
   "metadata": {},
   "outputs": [],
   "source": [
    "als_model_fullreg = ALS(userCol='userId',\n",
    "                itemCol='movieId',\n",
    "                ratingCol='rating',\n",
    "                nonnegative=True,\n",
    "                regParam=1,\n",
    "                rank=10\n",
    "               )\n",
    "\n",
    "recommender_fullreg = als_model_fullreg.fit(train_w_imprating)"
   ]
  },
  {
   "cell_type": "code",
   "execution_count": 49,
   "metadata": {},
   "outputs": [],
   "source": [
    "predictions = recommender_fullreg.transform(test)"
   ]
  },
  {
   "cell_type": "code",
   "execution_count": 50,
   "metadata": {},
   "outputs": [
    {
     "data": {
      "text/html": [
       "<div>\n",
       "<style scoped>\n",
       "    .dataframe tbody tr th:only-of-type {\n",
       "        vertical-align: middle;\n",
       "    }\n",
       "\n",
       "    .dataframe tbody tr th {\n",
       "        vertical-align: top;\n",
       "    }\n",
       "\n",
       "    .dataframe thead th {\n",
       "        text-align: right;\n",
       "    }\n",
       "</style>\n",
       "<table border=\"1\" class=\"dataframe\">\n",
       "  <thead>\n",
       "    <tr style=\"text-align: right;\">\n",
       "      <th></th>\n",
       "      <th>userId</th>\n",
       "      <th>movieId</th>\n",
       "      <th>rating</th>\n",
       "      <th>prediction</th>\n",
       "    </tr>\n",
       "  </thead>\n",
       "  <tbody>\n",
       "    <tr>\n",
       "      <th>0</th>\n",
       "      <td>610</td>\n",
       "      <td>471</td>\n",
       "      <td>4.0</td>\n",
       "      <td>2.638231</td>\n",
       "    </tr>\n",
       "    <tr>\n",
       "      <th>1</th>\n",
       "      <td>520</td>\n",
       "      <td>471</td>\n",
       "      <td>5.0</td>\n",
       "      <td>2.740317</td>\n",
       "    </tr>\n",
       "    <tr>\n",
       "      <th>2</th>\n",
       "      <td>136</td>\n",
       "      <td>471</td>\n",
       "      <td>4.0</td>\n",
       "      <td>2.417646</td>\n",
       "    </tr>\n",
       "    <tr>\n",
       "      <th>3</th>\n",
       "      <td>171</td>\n",
       "      <td>471</td>\n",
       "      <td>3.0</td>\n",
       "      <td>3.156088</td>\n",
       "    </tr>\n",
       "    <tr>\n",
       "      <th>4</th>\n",
       "      <td>448</td>\n",
       "      <td>471</td>\n",
       "      <td>4.0</td>\n",
       "      <td>2.166902</td>\n",
       "    </tr>\n",
       "  </tbody>\n",
       "</table>\n",
       "</div>"
      ],
      "text/plain": [
       "   userId  movieId  rating  prediction\n",
       "0     610      471     4.0    2.638231\n",
       "1     520      471     5.0    2.740317\n",
       "2     136      471     4.0    2.417646\n",
       "3     171      471     3.0    3.156088\n",
       "4     448      471     4.0    2.166902"
      ]
     },
     "execution_count": 50,
     "metadata": {},
     "output_type": "execute_result"
    }
   ],
   "source": [
    "predictions_df = predictions.toPandas()\n",
    "predictions_df.head()"
   ]
  },
  {
   "cell_type": "code",
   "execution_count": 51,
   "metadata": {},
   "outputs": [
    {
     "data": {
      "text/html": [
       "<div>\n",
       "<style scoped>\n",
       "    .dataframe tbody tr th:only-of-type {\n",
       "        vertical-align: middle;\n",
       "    }\n",
       "\n",
       "    .dataframe tbody tr th {\n",
       "        vertical-align: top;\n",
       "    }\n",
       "\n",
       "    .dataframe thead th {\n",
       "        text-align: right;\n",
       "    }\n",
       "</style>\n",
       "<table border=\"1\" class=\"dataframe\">\n",
       "  <thead>\n",
       "    <tr style=\"text-align: right;\">\n",
       "      <th></th>\n",
       "      <th>userId</th>\n",
       "      <th>movieId</th>\n",
       "      <th>rating</th>\n",
       "      <th>prediction</th>\n",
       "      <th>squared_error</th>\n",
       "    </tr>\n",
       "  </thead>\n",
       "  <tbody>\n",
       "    <tr>\n",
       "      <th>0</th>\n",
       "      <td>610</td>\n",
       "      <td>471</td>\n",
       "      <td>4.0</td>\n",
       "      <td>2.638231</td>\n",
       "      <td>1.854415</td>\n",
       "    </tr>\n",
       "    <tr>\n",
       "      <th>1</th>\n",
       "      <td>520</td>\n",
       "      <td>471</td>\n",
       "      <td>5.0</td>\n",
       "      <td>2.740317</td>\n",
       "      <td>5.106166</td>\n",
       "    </tr>\n",
       "    <tr>\n",
       "      <th>2</th>\n",
       "      <td>136</td>\n",
       "      <td>471</td>\n",
       "      <td>4.0</td>\n",
       "      <td>2.417646</td>\n",
       "      <td>2.503844</td>\n",
       "    </tr>\n",
       "    <tr>\n",
       "      <th>3</th>\n",
       "      <td>171</td>\n",
       "      <td>471</td>\n",
       "      <td>3.0</td>\n",
       "      <td>3.156088</td>\n",
       "      <td>0.024364</td>\n",
       "    </tr>\n",
       "    <tr>\n",
       "      <th>4</th>\n",
       "      <td>448</td>\n",
       "      <td>471</td>\n",
       "      <td>4.0</td>\n",
       "      <td>2.166902</td>\n",
       "      <td>3.360250</td>\n",
       "    </tr>\n",
       "  </tbody>\n",
       "</table>\n",
       "</div>"
      ],
      "text/plain": [
       "   userId  movieId  rating  prediction  squared_error\n",
       "0     610      471     4.0    2.638231       1.854415\n",
       "1     520      471     5.0    2.740317       5.106166\n",
       "2     136      471     4.0    2.417646       2.503844\n",
       "3     171      471     3.0    3.156088       0.024364\n",
       "4     448      471     4.0    2.166902       3.360250"
      ]
     },
     "execution_count": 51,
     "metadata": {},
     "output_type": "execute_result"
    }
   ],
   "source": [
    "predictions_df = predictions_df.fillna(global_mean)\n",
    "predictions_df['squared_error'] = (predictions_df['rating'] - predictions_df['prediction'])**2\n",
    "predictions_df.head()"
   ]
  },
  {
   "cell_type": "code",
   "execution_count": 52,
   "metadata": {},
   "outputs": [
    {
     "data": {
      "text/html": [
       "<div>\n",
       "<style scoped>\n",
       "    .dataframe tbody tr th:only-of-type {\n",
       "        vertical-align: middle;\n",
       "    }\n",
       "\n",
       "    .dataframe tbody tr th {\n",
       "        vertical-align: top;\n",
       "    }\n",
       "\n",
       "    .dataframe thead th {\n",
       "        text-align: right;\n",
       "    }\n",
       "</style>\n",
       "<table border=\"1\" class=\"dataframe\">\n",
       "  <thead>\n",
       "    <tr style=\"text-align: right;\">\n",
       "      <th></th>\n",
       "      <th>userId</th>\n",
       "      <th>movieId</th>\n",
       "      <th>rating</th>\n",
       "      <th>prediction</th>\n",
       "      <th>squared_error</th>\n",
       "    </tr>\n",
       "  </thead>\n",
       "  <tbody>\n",
       "    <tr>\n",
       "      <th>count</th>\n",
       "      <td>20133.000000</td>\n",
       "      <td>20133.000000</td>\n",
       "      <td>20133.000000</td>\n",
       "      <td>20133.000000</td>\n",
       "      <td>2.013300e+04</td>\n",
       "    </tr>\n",
       "    <tr>\n",
       "      <th>mean</th>\n",
       "      <td>328.261064</td>\n",
       "      <td>19955.773755</td>\n",
       "      <td>3.504992</td>\n",
       "      <td>2.568398</td>\n",
       "      <td>1.717002e+00</td>\n",
       "    </tr>\n",
       "    <tr>\n",
       "      <th>std</th>\n",
       "      <td>181.812798</td>\n",
       "      <td>35978.358433</td>\n",
       "      <td>1.038267</td>\n",
       "      <td>0.526470</td>\n",
       "      <td>1.748600e+00</td>\n",
       "    </tr>\n",
       "    <tr>\n",
       "      <th>min</th>\n",
       "      <td>1.000000</td>\n",
       "      <td>1.000000</td>\n",
       "      <td>0.500000</td>\n",
       "      <td>0.305098</td>\n",
       "      <td>5.130119e-08</td>\n",
       "    </tr>\n",
       "    <tr>\n",
       "      <th>25%</th>\n",
       "      <td>177.000000</td>\n",
       "      <td>1200.000000</td>\n",
       "      <td>3.000000</td>\n",
       "      <td>2.226684</td>\n",
       "      <td>3.742951e-01</td>\n",
       "    </tr>\n",
       "    <tr>\n",
       "      <th>50%</th>\n",
       "      <td>327.000000</td>\n",
       "      <td>3039.000000</td>\n",
       "      <td>3.500000</td>\n",
       "      <td>2.589708</td>\n",
       "      <td>1.174011e+00</td>\n",
       "    </tr>\n",
       "    <tr>\n",
       "      <th>75%</th>\n",
       "      <td>477.000000</td>\n",
       "      <td>8533.000000</td>\n",
       "      <td>4.000000</td>\n",
       "      <td>2.924491</td>\n",
       "      <td>2.506607e+00</td>\n",
       "    </tr>\n",
       "    <tr>\n",
       "      <th>max</th>\n",
       "      <td>610.000000</td>\n",
       "      <td>193581.000000</td>\n",
       "      <td>5.000000</td>\n",
       "      <td>4.407802</td>\n",
       "      <td>1.648814e+01</td>\n",
       "    </tr>\n",
       "  </tbody>\n",
       "</table>\n",
       "</div>"
      ],
      "text/plain": [
       "             userId        movieId        rating    prediction  squared_error\n",
       "count  20133.000000   20133.000000  20133.000000  20133.000000   2.013300e+04\n",
       "mean     328.261064   19955.773755      3.504992      2.568398   1.717002e+00\n",
       "std      181.812798   35978.358433      1.038267      0.526470   1.748600e+00\n",
       "min        1.000000       1.000000      0.500000      0.305098   5.130119e-08\n",
       "25%      177.000000    1200.000000      3.000000      2.226684   3.742951e-01\n",
       "50%      327.000000    3039.000000      3.500000      2.589708   1.174011e+00\n",
       "75%      477.000000    8533.000000      4.000000      2.924491   2.506607e+00\n",
       "max      610.000000  193581.000000      5.000000      4.407802   1.648814e+01"
      ]
     },
     "execution_count": 52,
     "metadata": {},
     "output_type": "execute_result"
    }
   ],
   "source": [
    "predictions_df.describe() "
   ]
  },
  {
   "cell_type": "code",
   "execution_count": 53,
   "metadata": {},
   "outputs": [
    {
     "data": {
      "image/png": "[encoded data removed]",
      "text/plain": [
       "<Figure size 720x432 with 1 Axes>"
      ]
     },
     "metadata": {
      "needs_background": "light"
     },
     "output_type": "display_data"
    }
   ],
   "source": [
    "# Create array of predictions for violinplot\n",
    "\n",
    "data = [predictions_df['prediction'][predictions_df['rating'] == rating].values for rating in range(1, 6)]\n",
    "fig, ax = plt.subplots(figsize=(10,6))\n",
    "\n",
    "ax.violinplot(data, range(1,6), showmeans=True)\n",
    "ax.scatter(np.arange(1,6,1), np.arange(1,6,1), label='Perfect Prediction', color='red',marker='o')\n",
    "ax.set_xlabel('True Ratings')\n",
    "ax.set_ylabel('Predicted Ratings')\n",
    "ax.set_title('True vs. ALS Recommender Predicted Ratings')\n",
    "ax.legend(loc='lower right')\n",
    "plt.show()"
   ]
  },
  {
   "cell_type": "code",
   "execution_count": 54,
   "metadata": {},
   "outputs": [],
   "source": [
    "# increased level of regularization "
   ]
  },
  {
   "cell_type": "code",
   "execution_count": 55,
   "metadata": {},
   "outputs": [],
   "source": [
    "def rank_score(df):\n",
    "    df2 = df.copy()\n",
    "    df2['rank'] = df2.groupby(\"userId\")[\"prediction\"].rank(\"dense\", ascending=False, na_option='top') -1\n",
    "    df2 = df2.join(df2.groupby(\"userId\")[\"rank\"].max(), on='user', rsuffix='_max')\n",
    "    df2['pct_rank'] = df2['rank']/df2['rank_max']\n",
    "    \n",
    "    return np.sum(df2['interactions']*df2['pct_rank'])/np.sum(df2['interactions'])\n",
    "    "
   ]
  },
  {
   "cell_type": "code",
   "execution_count": 56,
   "metadata": {},
   "outputs": [],
   "source": [
    "implicit_predictions = recommender_imp.transform(test)"
   ]
  },
  {
   "cell_type": "code",
   "execution_count": 57,
   "metadata": {},
   "outputs": [],
   "source": [
    "implicit_predictions_df = implicit_predictions.toPandas()"
   ]
  },
  {
   "cell_type": "code",
   "execution_count": 58,
   "metadata": {},
   "outputs": [
    {
     "name": "stdout",
     "output_type": "stream",
     "text": [
      "<class 'pandas.core.frame.DataFrame'>\n",
      "RangeIndex: 20133 entries, 0 to 20132\n",
      "Data columns (total 4 columns):\n",
      " #   Column      Non-Null Count  Dtype  \n",
      "---  ------      --------------  -----  \n",
      " 0   userId      20133 non-null  int64  \n",
      " 1   movieId     20133 non-null  int64  \n",
      " 2   rating      20133 non-null  float64\n",
      " 3   prediction  19282 non-null  float32\n",
      "dtypes: float32(1), float64(1), int64(2)\n",
      "memory usage: 550.6 KB\n"
     ]
    }
   ],
   "source": [
    "implicit_predictions_df.info()"
   ]
  },
  {
   "cell_type": "code",
   "execution_count": null,
   "metadata": {},
   "outputs": [],
   "source": []
  }
 ],
 "metadata": {
  "kernelspec": {
   "display_name": "Python 3",
   "language": "python",
   "name": "python3"
  },
  "language_info": {
   "codemirror_mode": {
    "name": "ipython",
    "version": 3
   },
   "file_extension": ".py",
   "mimetype": "text/x-python",
   "name": "python",
   "nbconvert_exporter": "python",
   "pygments_lexer": "ipython3",
   "version": "3.8.6"
  }
 },
 "nbformat": 4,
 "nbformat_minor": 4
}
