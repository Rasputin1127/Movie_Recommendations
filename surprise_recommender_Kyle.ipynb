{
 "cells": [
  {
   "cell_type": "code",
   "execution_count": 2,
   "metadata": {},
   "outputs": [],
   "source": [
    "import pandas as pd\n",
    "import numpy as np\n",
    "import matplotlib.pyplot as plt\n",
    "from surprise import Reader, Dataset\n",
    "from surprise.model_selection import train_test_split\n",
    "from surprise import SVD, accuracy"
   ]
  },
  {
   "cell_type": "code",
   "execution_count": 3,
   "metadata": {},
   "outputs": [],
   "source": [
    "raw_df = pd.read_csv('data/ml-latest-small/ratings.csv')"
   ]
  },
  {
   "cell_type": "code",
   "execution_count": 4,
   "metadata": {},
   "outputs": [
    {
     "data": {
      "text/html": [
       "<div>\n",
       "<style scoped>\n",
       "    .dataframe tbody tr th:only-of-type {\n",
       "        vertical-align: middle;\n",
       "    }\n",
       "\n",
       "    .dataframe tbody tr th {\n",
       "        vertical-align: top;\n",
       "    }\n",
       "\n",
       "    .dataframe thead th {\n",
       "        text-align: right;\n",
       "    }\n",
       "</style>\n",
       "<table border=\"1\" class=\"dataframe\">\n",
       "  <thead>\n",
       "    <tr style=\"text-align: right;\">\n",
       "      <th></th>\n",
       "      <th>userId</th>\n",
       "      <th>movieId</th>\n",
       "      <th>rating</th>\n",
       "      <th>timestamp</th>\n",
       "    </tr>\n",
       "  </thead>\n",
       "  <tbody>\n",
       "    <tr>\n",
       "      <th>0</th>\n",
       "      <td>1</td>\n",
       "      <td>1</td>\n",
       "      <td>4.0</td>\n",
       "      <td>964982703</td>\n",
       "    </tr>\n",
       "    <tr>\n",
       "      <th>1</th>\n",
       "      <td>1</td>\n",
       "      <td>3</td>\n",
       "      <td>4.0</td>\n",
       "      <td>964981247</td>\n",
       "    </tr>\n",
       "    <tr>\n",
       "      <th>2</th>\n",
       "      <td>1</td>\n",
       "      <td>6</td>\n",
       "      <td>4.0</td>\n",
       "      <td>964982224</td>\n",
       "    </tr>\n",
       "    <tr>\n",
       "      <th>3</th>\n",
       "      <td>1</td>\n",
       "      <td>47</td>\n",
       "      <td>5.0</td>\n",
       "      <td>964983815</td>\n",
       "    </tr>\n",
       "    <tr>\n",
       "      <th>4</th>\n",
       "      <td>1</td>\n",
       "      <td>50</td>\n",
       "      <td>5.0</td>\n",
       "      <td>964982931</td>\n",
       "    </tr>\n",
       "  </tbody>\n",
       "</table>\n",
       "</div>"
      ],
      "text/plain": [
       "   userId  movieId  rating  timestamp\n",
       "0       1        1     4.0  964982703\n",
       "1       1        3     4.0  964981247\n",
       "2       1        6     4.0  964982224\n",
       "3       1       47     5.0  964983815\n",
       "4       1       50     5.0  964982931"
      ]
     },
     "execution_count": 4,
     "metadata": {},
     "output_type": "execute_result"
    }
   ],
   "source": [
    "raw_df.head()"
   ]
  },
  {
   "cell_type": "code",
   "execution_count": 5,
   "metadata": {},
   "outputs": [],
   "source": [
    "raw_df.drop('timestamp',axis=1,inplace=True)"
   ]
  },
  {
   "cell_type": "code",
   "execution_count": 6,
   "metadata": {},
   "outputs": [
    {
     "data": {
      "text/html": [
       "<div>\n",
       "<style scoped>\n",
       "    .dataframe tbody tr th:only-of-type {\n",
       "        vertical-align: middle;\n",
       "    }\n",
       "\n",
       "    .dataframe tbody tr th {\n",
       "        vertical-align: top;\n",
       "    }\n",
       "\n",
       "    .dataframe thead th {\n",
       "        text-align: right;\n",
       "    }\n",
       "</style>\n",
       "<table border=\"1\" class=\"dataframe\">\n",
       "  <thead>\n",
       "    <tr style=\"text-align: right;\">\n",
       "      <th></th>\n",
       "      <th>userId</th>\n",
       "      <th>movieId</th>\n",
       "      <th>rating</th>\n",
       "    </tr>\n",
       "  </thead>\n",
       "  <tbody>\n",
       "    <tr>\n",
       "      <th>0</th>\n",
       "      <td>1</td>\n",
       "      <td>1</td>\n",
       "      <td>4.0</td>\n",
       "    </tr>\n",
       "    <tr>\n",
       "      <th>1</th>\n",
       "      <td>1</td>\n",
       "      <td>3</td>\n",
       "      <td>4.0</td>\n",
       "    </tr>\n",
       "    <tr>\n",
       "      <th>2</th>\n",
       "      <td>1</td>\n",
       "      <td>6</td>\n",
       "      <td>4.0</td>\n",
       "    </tr>\n",
       "    <tr>\n",
       "      <th>3</th>\n",
       "      <td>1</td>\n",
       "      <td>47</td>\n",
       "      <td>5.0</td>\n",
       "    </tr>\n",
       "    <tr>\n",
       "      <th>4</th>\n",
       "      <td>1</td>\n",
       "      <td>50</td>\n",
       "      <td>5.0</td>\n",
       "    </tr>\n",
       "  </tbody>\n",
       "</table>\n",
       "</div>"
      ],
      "text/plain": [
       "   userId  movieId  rating\n",
       "0       1        1     4.0\n",
       "1       1        3     4.0\n",
       "2       1        6     4.0\n",
       "3       1       47     5.0\n",
       "4       1       50     5.0"
      ]
     },
     "execution_count": 6,
     "metadata": {},
     "output_type": "execute_result"
    }
   ],
   "source": [
    "raw_df.head()"
   ]
  },
  {
   "cell_type": "markdown",
   "metadata": {},
   "source": [
    "$R_{ij}$"
   ]
  },
  {
   "cell_type": "code",
   "execution_count": 7,
   "metadata": {},
   "outputs": [
    {
     "data": {
      "text/plain": [
       "array([0.5, 1. , 1.5, 2. , 2.5, 3. , 3.5, 4. , 4.5, 5. ])"
      ]
     },
     "execution_count": 7,
     "metadata": {},
     "output_type": "execute_result"
    }
   ],
   "source": [
    "np.unique(raw_df['rating'])"
   ]
  },
  {
   "cell_type": "code",
   "execution_count": 8,
   "metadata": {},
   "outputs": [
    {
     "name": "stdout",
     "output_type": "stream",
     "text": [
      "\n",
      "Global Mean...\n",
      "\n",
      "MeanOfMeans...\n"
     ]
    }
   ],
   "source": [
    "#!/usr/bin/env python\n",
    "\n",
    "\"\"\"\n",
    "http://surprise.readthedocs.io/en/stable/building_custom_algo.html\n",
    "\"\"\"\n",
    "\n",
    "import sys\n",
    "import numpy as np\n",
    "from surprise import AlgoBase, Dataset\n",
    "from surprise.model_selection.validation import cross_validate\n",
    "\n",
    "class GlobalMean(AlgoBase):\n",
    "    def __init__(self):\n",
    "\n",
    "        # Always call base method before doing anything.\n",
    "        AlgoBase.__init__(self)\n",
    "\n",
    "    def fit(self, trainset):\n",
    "\n",
    "        # Here again: call base method before doing anything.\n",
    "        AlgoBase.fit(self, trainset)\n",
    "\n",
    "        # Compute the average rating. We might as well use the\n",
    "        # trainset.global_mean attribute ;)\n",
    "        self.the_mean = np.mean([r for (_, _, r) in\n",
    "                                 self.trainset.all_ratings()])\n",
    "\n",
    "        return self\n",
    "\n",
    "    def estimate(self, u, i):\n",
    "\n",
    "        return self.the_mean\n",
    "\n",
    "\n",
    "class MeanofMeans(AlgoBase):\n",
    "    def __init__(self):\n",
    "\n",
    "    # Always call base method before doing anything.\n",
    "        AlgoBase.__init__(self)\n",
    "\n",
    "\n",
    "    def fit(self, trainset):\n",
    "\n",
    "        # Here again: call base method before doing anything.\n",
    "        AlgoBase.fit(self, trainset)\n",
    "\n",
    "        users = np.array([u for (u, _, _) in self.trainset.all_ratings()])\n",
    "        items = np.array([i for (_, i, _) in self.trainset.all_ratings()])\n",
    "        ratings = np.array([r for (_, _, r) in self.trainset.all_ratings()])\n",
    "\n",
    "        user_means,item_means = {},{}\n",
    "        for user in np.unique(users):\n",
    "            user_means[user] = ratings[users==user].mean()\n",
    "        for item in np.unique(items):\n",
    "            item_means[item] = ratings[items==item].mean()\n",
    "\n",
    "        self.global_mean = ratings.mean()\n",
    "        self.user_means = user_means\n",
    "        self.item_means = item_means\n",
    "\n",
    "    def estimate(self, u, i):\n",
    "        \"\"\"\n",
    "        return the mean of means estimate\n",
    "        \"\"\"\n",
    "\n",
    "        if u not in self.user_means:\n",
    "            return(np.mean([self.global_mean,\n",
    "                            self.item_means[i]]))\n",
    "\n",
    "        if i not in self.item_means:\n",
    "            return(np.mean([self.global_mean,\n",
    "                            self.user_means[u]]))\n",
    "\n",
    "        return(np.mean([self.global_mean,\n",
    "                        self.user_means[u],\n",
    "                        self.item_means[i]]))\n",
    "\n",
    "\n",
    "if __name__ == \"__main__\":\n",
    "    reader = Reader()\n",
    "    data = Dataset.load_from_df(raw_df, reader)\n",
    "    print(\"\\nGlobal Mean...\")\n",
    "    algo = GlobalMean()\n",
    "    ga_scores = cross_validate(algo, data)\n",
    "\n",
    "    print(\"\\nMeanOfMeans...\")\n",
    "    algo = MeanofMeans()\n",
    "    mom_scores = cross_validate(algo, data)\n"
   ]
  },
  {
   "cell_type": "code",
   "execution_count": 9,
   "metadata": {},
   "outputs": [
    {
     "name": "stdout",
     "output_type": "stream",
     "text": [
      "\n",
      "Global Mean...\n",
      "\n",
      "MeanOfMeans...\n"
     ]
    }
   ],
   "source": [
    "reader = Reader()\n",
    "data = Dataset.load_from_df(raw_df, reader)\n",
    "print(\"\\nGlobal Mean...\")\n",
    "algo = GlobalMean()\n",
    "ga_scores = cross_validate(algo, data)\n",
    "\n",
    "print(\"\\nMeanOfMeans...\")\n",
    "algo = MeanofMeans()\n",
    "mom_scores = cross_validate(algo, data)"
   ]
  },
  {
   "cell_type": "code",
   "execution_count": null,
   "metadata": {},
   "outputs": [],
   "source": []
  },
  {
   "cell_type": "code",
   "execution_count": 10,
   "metadata": {},
   "outputs": [],
   "source": [
    "trainset, testset = train_test_split(data, test_size=0.25)"
   ]
  },
  {
   "cell_type": "code",
   "execution_count": null,
   "metadata": {},
   "outputs": [],
   "source": []
  },
  {
   "cell_type": "code",
   "execution_count": 11,
   "metadata": {},
   "outputs": [],
   "source": [
    "to_beat = np.mean(mom_scores['test_rmse'])"
   ]
  },
  {
   "cell_type": "code",
   "execution_count": 12,
   "metadata": {},
   "outputs": [
    {
     "data": {
      "text/plain": [
       "0.9305143763117677"
      ]
     },
     "execution_count": 12,
     "metadata": {},
     "output_type": "execute_result"
    }
   ],
   "source": [
    "to_beat"
   ]
  },
  {
   "cell_type": "code",
   "execution_count": 13,
   "metadata": {},
   "outputs": [],
   "source": [
    "recs = []\n",
    "user = 572\n",
    "for movie in range(len(algo.item_means)):\n",
    "    recs.append(algo.estimate(user,movie))"
   ]
  },
  {
   "cell_type": "code",
   "execution_count": 14,
   "metadata": {},
   "outputs": [],
   "source": [
    "indices = np.argsort(recs)[:-10:-1]"
   ]
  },
  {
   "cell_type": "code",
   "execution_count": 15,
   "metadata": {},
   "outputs": [
    {
     "name": "stdout",
     "output_type": "stream",
     "text": [
      "3759\n",
      "5.0\n",
      "8141\n",
      "5.0\n",
      "8138\n",
      "5.0\n",
      "8493\n",
      "5.0\n",
      "4527\n",
      "5.0\n",
      "8781\n",
      "5.0\n",
      "1186\n",
      "5.0\n",
      "3126\n",
      "5.0\n",
      "5624\n",
      "5.0\n"
     ]
    }
   ],
   "source": [
    "for idx in indices:\n",
    "    print(idx)\n",
    "    print(algo.item_means[idx])"
   ]
  },
  {
   "cell_type": "code",
   "execution_count": 53,
   "metadata": {},
   "outputs": [],
   "source": [
    "movie_df = pd.read_csv('data/ml-latest-small/movies.csv')"
   ]
  },
  {
   "cell_type": "code",
   "execution_count": 17,
   "metadata": {},
   "outputs": [],
   "source": [
    "movie_recs = []\n",
    "for movie in indices:\n",
    "    movie_recs.append(movie_df['title'].iloc[movie])"
   ]
  },
  {
   "cell_type": "code",
   "execution_count": 18,
   "metadata": {},
   "outputs": [
    {
     "data": {
      "text/plain": [
       "['Shogun Assassin (1980)',\n",
       " 'Disconnect (2012)',\n",
       " 'Dark Tide (2012)',\n",
       " 'Giver, The (2014)',\n",
       " 'Once Upon a Time in Mexico (2003)',\n",
       " 'Northmen - A Viking Saga (2014)',\n",
       " 'Simple Wish, A (1997)',\n",
       " 'Mermaids (1990)',\n",
       " 'Kirikou and the Sorceress (Kirikou et la sorcière) (1998)']"
      ]
     },
     "execution_count": 18,
     "metadata": {},
     "output_type": "execute_result"
    }
   ],
   "source": [
    "movie_recs"
   ]
  },
  {
   "cell_type": "code",
   "execution_count": 19,
   "metadata": {},
   "outputs": [
    {
     "data": {
      "text/html": [
       "<div>\n",
       "<style scoped>\n",
       "    .dataframe tbody tr th:only-of-type {\n",
       "        vertical-align: middle;\n",
       "    }\n",
       "\n",
       "    .dataframe tbody tr th {\n",
       "        vertical-align: top;\n",
       "    }\n",
       "\n",
       "    .dataframe thead th {\n",
       "        text-align: right;\n",
       "    }\n",
       "</style>\n",
       "<table border=\"1\" class=\"dataframe\">\n",
       "  <thead>\n",
       "    <tr style=\"text-align: right;\">\n",
       "      <th></th>\n",
       "      <th>movieId</th>\n",
       "      <th>title</th>\n",
       "      <th>genres</th>\n",
       "    </tr>\n",
       "  </thead>\n",
       "  <tbody>\n",
       "    <tr>\n",
       "      <th>6569</th>\n",
       "      <td>55112</td>\n",
       "      <td>Shanghai Kiss (2007)</td>\n",
       "      <td>Comedy|Drama|Romance</td>\n",
       "    </tr>\n",
       "  </tbody>\n",
       "</table>\n",
       "</div>"
      ],
      "text/plain": [
       "      movieId                 title                genres\n",
       "6569    55112  Shanghai Kiss (2007)  Comedy|Drama|Romance"
      ]
     },
     "execution_count": 19,
     "metadata": {},
     "output_type": "execute_result"
    }
   ],
   "source": [
    "movie_df[movie_df.index==6569]"
   ]
  },
  {
   "cell_type": "code",
   "execution_count": 20,
   "metadata": {},
   "outputs": [
    {
     "data": {
      "text/html": [
       "<div>\n",
       "<style scoped>\n",
       "    .dataframe tbody tr th:only-of-type {\n",
       "        vertical-align: middle;\n",
       "    }\n",
       "\n",
       "    .dataframe tbody tr th {\n",
       "        vertical-align: top;\n",
       "    }\n",
       "\n",
       "    .dataframe thead th {\n",
       "        text-align: right;\n",
       "    }\n",
       "</style>\n",
       "<table border=\"1\" class=\"dataframe\">\n",
       "  <thead>\n",
       "    <tr style=\"text-align: right;\">\n",
       "      <th></th>\n",
       "      <th>movieId</th>\n",
       "      <th>title</th>\n",
       "      <th>genres</th>\n",
       "    </tr>\n",
       "  </thead>\n",
       "  <tbody>\n",
       "    <tr>\n",
       "      <th>0</th>\n",
       "      <td>1</td>\n",
       "      <td>Toy Story (1995)</td>\n",
       "      <td>Adventure|Animation|Children|Comedy|Fantasy</td>\n",
       "    </tr>\n",
       "    <tr>\n",
       "      <th>1</th>\n",
       "      <td>2</td>\n",
       "      <td>Jumanji (1995)</td>\n",
       "      <td>Adventure|Children|Fantasy</td>\n",
       "    </tr>\n",
       "    <tr>\n",
       "      <th>2</th>\n",
       "      <td>3</td>\n",
       "      <td>Grumpier Old Men (1995)</td>\n",
       "      <td>Comedy|Romance</td>\n",
       "    </tr>\n",
       "    <tr>\n",
       "      <th>3</th>\n",
       "      <td>4</td>\n",
       "      <td>Waiting to Exhale (1995)</td>\n",
       "      <td>Comedy|Drama|Romance</td>\n",
       "    </tr>\n",
       "    <tr>\n",
       "      <th>4</th>\n",
       "      <td>5</td>\n",
       "      <td>Father of the Bride Part II (1995)</td>\n",
       "      <td>Comedy</td>\n",
       "    </tr>\n",
       "  </tbody>\n",
       "</table>\n",
       "</div>"
      ],
      "text/plain": [
       "   movieId                               title  \\\n",
       "0        1                    Toy Story (1995)   \n",
       "1        2                      Jumanji (1995)   \n",
       "2        3             Grumpier Old Men (1995)   \n",
       "3        4            Waiting to Exhale (1995)   \n",
       "4        5  Father of the Bride Part II (1995)   \n",
       "\n",
       "                                        genres  \n",
       "0  Adventure|Animation|Children|Comedy|Fantasy  \n",
       "1                   Adventure|Children|Fantasy  \n",
       "2                               Comedy|Romance  \n",
       "3                         Comedy|Drama|Romance  \n",
       "4                                       Comedy  "
      ]
     },
     "execution_count": 20,
     "metadata": {},
     "output_type": "execute_result"
    }
   ],
   "source": [
    "movie_df.head()"
   ]
  },
  {
   "cell_type": "code",
   "execution_count": 21,
   "metadata": {},
   "outputs": [],
   "source": [
    "grouped_df = raw_df.groupby(['userId','movieId','rating'])"
   ]
  },
  {
   "cell_type": "code",
   "execution_count": 22,
   "metadata": {},
   "outputs": [],
   "source": [
    "pres = data.build_full_trainset()"
   ]
  },
  {
   "cell_type": "code",
   "execution_count": 23,
   "metadata": {},
   "outputs": [],
   "source": [
    "alberto = pres.ur[2]"
   ]
  },
  {
   "cell_type": "code",
   "execution_count": 52,
   "metadata": {},
   "outputs": [
    {
     "data": {
      "text/plain": [
       "[(2, 0.5),\n",
       " (3, 5.0),\n",
       " (19, 4.5),\n",
       " (28, 4.0),\n",
       " (32, 5.0),\n",
       " (49, 3.0),\n",
       " (83, 4.0),\n",
       " (99, 4.0),\n",
       " (103, 4.0),\n",
       " (104, 4.0),\n",
       " (131, 3.0),\n",
       " (139, 4.0),\n",
       " (168, 5.0),\n",
       " (176, 4.0),\n",
       " (185, 4.0),\n",
       " (187, 5.0),\n",
       " (291, 2.0),\n",
       " (314, 3.0),\n",
       " (327, 4.0),\n",
       " (356, 4.0),\n",
       " (397, 5.0),\n",
       " (473, 4.5),\n",
       " (482, 4.0),\n",
       " (487, 4.5),\n",
       " (488, 5.0),\n",
       " (516, 4.5),\n",
       " (524, 4.0),\n",
       " (551, 3.5),\n",
       " (553, 4.0),\n",
       " (562, 4.0),\n",
       " (589, 4.0),\n",
       " (592, 4.0),\n",
       " (599, 4.5),\n",
       " (602, 5.0),\n",
       " (605, 5.0)]"
      ]
     },
     "execution_count": 52,
     "metadata": {},
     "output_type": "execute_result"
    }
   ],
   "source": [
    "pres.ir[264]"
   ]
  },
  {
   "cell_type": "code",
   "execution_count": 40,
   "metadata": {},
   "outputs": [
    {
     "data": {
      "text/plain": [
       "[(259, 0.5),\n",
       " (28, 0.5),\n",
       " (260, 0.5),\n",
       " (261, 0.5),\n",
       " (262, 0.5),\n",
       " (263, 5.0),\n",
       " (264, 0.5),\n",
       " (265, 0.5),\n",
       " (266, 0.5),\n",
       " (267, 0.5),\n",
       " (268, 0.5),\n",
       " (86, 3.5),\n",
       " (269, 0.5),\n",
       " (270, 3.0),\n",
       " (102, 4.5),\n",
       " (120, 0.5),\n",
       " (271, 0.5),\n",
       " (128, 0.5),\n",
       " (133, 2.0),\n",
       " (272, 4.0),\n",
       " (273, 0.5),\n",
       " (274, 5.0),\n",
       " (275, 4.5),\n",
       " (276, 0.5),\n",
       " (224, 5.0),\n",
       " (277, 0.5),\n",
       " (278, 5.0),\n",
       " (279, 0.5),\n",
       " (280, 5.0),\n",
       " (281, 5.0),\n",
       " (282, 4.5),\n",
       " (283, 5.0),\n",
       " (284, 0.5),\n",
       " (285, 5.0),\n",
       " (286, 4.5),\n",
       " (287, 5.0),\n",
       " (288, 4.5),\n",
       " (289, 5.0),\n",
       " (290, 0.5)]"
      ]
     },
     "execution_count": 40,
     "metadata": {},
     "output_type": "execute_result"
    }
   ],
   "source": [
    "alberto"
   ]
  },
  {
   "cell_type": "code",
   "execution_count": 55,
   "metadata": {},
   "outputs": [],
   "source": [
    "indices = [750, 1204,  318, 1193,   50,  912, 1136, 1221,  904, 1276]"
   ]
  },
  {
   "cell_type": "code",
   "execution_count": null,
   "metadata": {},
   "outputs": [],
   "source": []
  },
  {
   "cell_type": "code",
   "execution_count": 60,
   "metadata": {},
   "outputs": [
    {
     "name": "stdout",
     "output_type": "stream",
     "text": [
      "Pompatus of Love, The (1996)\n",
      "Leave It to Beaver (1997)\n",
      "I Love Trouble (1994)\n",
      "Event Horizon (1997)\n",
      "Georgia (1995)\n",
      "Wings of Desire (Himmel über Berlin, Der) (1987)\n",
      "Selena (1997)\n",
      "Soul Food (1997)\n",
      "Withnail & I (1987)\n",
      "Amistad (1997)\n"
     ]
    }
   ],
   "source": [
    "for movie in indices:\n",
    "    print(movie_df.loc[movie].title)"
   ]
  },
  {
   "cell_type": "code",
   "execution_count": 30,
   "metadata": {},
   "outputs": [],
   "source": [
    "movie_df.set_index('movieId', inplace=True)"
   ]
  },
  {
   "cell_type": "code",
   "execution_count": 49,
   "metadata": {},
   "outputs": [
    {
     "data": {
      "text/plain": [
       "'Kiss of Death (1995)'"
      ]
     },
     "execution_count": 49,
     "metadata": {},
     "output_type": "execute_result"
    }
   ],
   "source": [
    "movie_df.loc[259].title"
   ]
  },
  {
   "cell_type": "code",
   "execution_count": 47,
   "metadata": {},
   "outputs": [
    {
     "data": {
      "text/plain": [
       "movieId\n",
       "259    Kiss of Death (1995)\n",
       "Name: title, dtype: object"
      ]
     },
     "execution_count": 47,
     "metadata": {},
     "output_type": "execute_result"
    }
   ],
   "source": [
    "movie_df[movie_df.index==259]['title']"
   ]
  },
  {
   "cell_type": "code",
   "execution_count": null,
   "metadata": {},
   "outputs": [],
   "source": []
  }
 ],
 "metadata": {
  "kernelspec": {
   "display_name": "Python 3",
   "language": "python",
   "name": "python3"
  },
  "language_info": {
   "codemirror_mode": {
    "name": "ipython",
    "version": 3
   },
   "file_extension": ".py",
   "mimetype": "text/x-python",
   "name": "python",
   "nbconvert_exporter": "python",
   "pygments_lexer": "ipython3",
   "version": "3.7.7"
  }
 },
 "nbformat": 4,
 "nbformat_minor": 4
}
